{
 "cells": [
  {
   "cell_type": "code",
   "execution_count": 1,
   "id": "b1db7bca",
   "metadata": {},
   "outputs": [],
   "source": [
    "import pandas as pd\n",
    "import numpy as np\n",
    "import matplotlib.pyplot as plt"
   ]
  },
  {
   "cell_type": "code",
   "execution_count": 2,
   "id": "809d46ed",
   "metadata": {},
   "outputs": [],
   "source": [
    "df = pd.read_csv('tips.csv')"
   ]
  },
  {
   "cell_type": "code",
   "execution_count": 3,
   "id": "7317c196",
   "metadata": {},
   "outputs": [
    {
     "name": "stdout",
     "output_type": "stream",
     "text": [
      "Average Tip by Gender:\n",
      " sex\n",
      "Female    2.833448\n",
      "Male      3.089618\n",
      "Name: tip, dtype: float64\n"
     ]
    }
   ],
   "source": [
    "# Calculate average tip by gender\n",
    "avg_tip_by_gender = df.groupby('sex')['tip'].mean()\n",
    "print(\"Average Tip by Gender:\\n\", avg_tip_by_gender)"
   ]
  },
  {
   "cell_type": "code",
   "execution_count": 4,
   "id": "c8d745fd",
   "metadata": {},
   "outputs": [
    {
     "name": "stdout",
     "output_type": "stream",
     "text": [
      "Total Bill by Day:\n",
      " day\n",
      "Fri      325.88\n",
      "Sat     1778.40\n",
      "Sun     1627.16\n",
      "Thur    1096.33\n",
      "Name: total_bill, dtype: float64\n"
     ]
    }
   ],
   "source": [
    "# Total bill distribution by day\n",
    "total_bill_by_day = df.groupby('day')['total_bill'].sum()\n",
    "print(\"Total Bill by Day:\\n\", total_bill_by_day)"
   ]
  },
  {
   "cell_type": "code",
   "execution_count": 5,
   "id": "c12cba6e",
   "metadata": {},
   "outputs": [
    {
     "name": "stdout",
     "output_type": "stream",
     "text": [
      "Correlation between Total Bill and Tip:\n",
      "             total_bill       tip\n",
      "total_bill    1.000000  0.675734\n",
      "tip           0.675734  1.000000\n"
     ]
    }
   ],
   "source": [
    "# Correlation between total bill and tip\n",
    "correlation = df[['total_bill', 'tip']].corr()\n",
    "print(\"Correlation between Total Bill and Tip:\\n\", correlation)"
   ]
  },
  {
   "cell_type": "code",
   "execution_count": 6,
   "id": "95f920c7",
   "metadata": {},
   "outputs": [
    {
     "name": "stdout",
     "output_type": "stream",
     "text": [
      "Average Price Per Person by Size:\n",
      " size\n",
      "1    7.242500\n",
      "2    8.223910\n",
      "3    7.759211\n",
      "4    7.153243\n",
      "5    6.014000\n",
      "6    5.807500\n",
      "Name: price_per_person, dtype: float64\n"
     ]
    }
   ],
   "source": [
    "# Average price per person by size of party\n",
    "avg_price_per_person_by_size = df.groupby('size')['price_per_person'].mean()\n",
    "print(\"Average Price Per Person by Size:\\n\", avg_price_per_person_by_size)"
   ]
  },
  {
   "cell_type": "code",
   "execution_count": 10,
   "id": "20cf6254",
   "metadata": {},
   "outputs": [
    {
     "name": "stdout",
     "output_type": "stream",
     "text": [
      "Top Payers:\n",
      "           Payer Name  total_bill\n",
      "170    Gregory Clark       50.81\n",
      "212  Alex Williamson       48.33\n",
      "59       Brian Ortiz       48.27\n",
      "156    Ryan Gonzales       48.17\n",
      "182     Jose Parsons       45.35\n"
     ]
    }
   ],
   "source": [
    "# Top payers based on total bill\n",
    "top_payers = df[['Payer Name', 'total_bill']].sort_values(by='total_bill', ascending=False).head()\n",
    "print(\"Top Payers:\\n\", top_payers)"
   ]
  },
  {
   "cell_type": "code",
   "execution_count": null,
   "id": "75f71679",
   "metadata": {},
   "outputs": [],
   "source": []
  },
  {
   "cell_type": "code",
   "execution_count": 8,
   "id": "a6d2c496",
   "metadata": {},
   "outputs": [
    {
     "name": "stdout",
     "output_type": "stream",
     "text": [
      "Total Bill and Tip Comparison for Smokers vs. Non-Smokers:\n",
      "         total_bill       tip\n",
      "smoker                      \n",
      "No       19.188278  2.991854\n",
      "Yes      20.756344  3.008710\n"
     ]
    }
   ],
   "source": [
    "# Total bill and tip comparison for smokers vs. non-smokers\n",
    "smoker_comparison = df.groupby('smoker')[['total_bill', 'tip']].mean()\n",
    "print(\"Total Bill and Tip Comparison for Smokers vs. Non-Smokers:\\n\", smoker_comparison)"
   ]
  },
  {
   "cell_type": "markdown",
   "id": "4424c19f",
   "metadata": {},
   "source": [
    "## Matplotlib"
   ]
  },
  {
   "cell_type": "code",
   "execution_count": 9,
   "id": "1c495db0",
   "metadata": {},
   "outputs": [
    {
     "data": {
      "image/png": "[encoded data removed]",
      "text/plain": [
       "<Figure size 800x600 with 1 Axes>"
      ]
     },
     "metadata": {},
     "output_type": "display_data"
    }
   ],
   "source": [
    "import matplotlib.pyplot as plt\n",
    "\n",
    "# Plot average tip by gender\n",
    "plt.figure(figsize=(8, 6))\n",
    "avg_tip_by_gender.plot(kind='bar', color=['blue', 'orange'])\n",
    "plt.title('Average Tip by Gender')\n",
    "plt.xlabel('Gender')\n",
    "plt.ylabel('Average Tip')\n",
    "plt.xticks(rotation=0)\n",
    "plt.show()"
   ]
  }
 ],
 "metadata": {
  "kernelspec": {
   "display_name": "Python 3 (ipykernel)",
   "language": "python",
   "name": "python3"
  },
  "language_info": {
   "codemirror_mode": {
    "name": "ipython",
    "version": 3
   },
   "file_extension": ".py",
   "mimetype": "text/x-python",
   "name": "python",
   "nbconvert_exporter": "python",
   "pygments_lexer": "ipython3",
   "version": "3.9.13"
  }
 },
 "nbformat": 4,
 "nbformat_minor": 5
}
